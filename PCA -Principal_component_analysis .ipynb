{
 "cells": [
  {
   "cell_type": "markdown",
   "metadata": {},
   "source": [
    "# Let's Code"
   ]
  },
  {
   "cell_type": "markdown",
   "metadata": {},
   "source": [
    "###  principal component analysis"
   ]
  },
  {
   "cell_type": "code",
   "execution_count": 11,
   "metadata": {},
   "outputs": [
    {
     "name": "stdout",
     "output_type": "stream",
     "text": [
      "Populating the interactive namespace from numpy and matplotlib\n"
     ]
    }
   ],
   "source": [
    "import numpy as np\n",
    "import pandas as pd\n",
    "import os\n",
    "import matplotlib.pyplot as plt\n",
    "%matplotlib inline\n",
    "%pylab inline"
   ]
  },
  {
   "cell_type": "markdown",
   "metadata": {},
   "source": [
    " ### Loading the Wine dataset "
   ]
  },
  {
   "cell_type": "code",
   "execution_count": 2,
   "metadata": {},
   "outputs": [],
   "source": [
    "df_wine = pd.read_csv(\n",
    "    'https://archive.ics.uci.edu/ml/machine-learning-databases/wine/wine.data', \n",
    "    header=None)"
   ]
  },
  {
   "cell_type": "code",
   "execution_count": 3,
   "metadata": {},
   "outputs": [
    {
     "data": {
      "text/html": [
       "<div>\n",
       "<style scoped>\n",
       "    .dataframe tbody tr th:only-of-type {\n",
       "        vertical-align: middle;\n",
       "    }\n",
       "\n",
       "    .dataframe tbody tr th {\n",
       "        vertical-align: top;\n",
       "    }\n",
       "\n",
       "    .dataframe thead th {\n",
       "        text-align: right;\n",
       "    }\n",
       "</style>\n",
       "<table border=\"1\" class=\"dataframe\">\n",
       "  <thead>\n",
       "    <tr style=\"text-align: right;\">\n",
       "      <th></th>\n",
       "      <th>0</th>\n",
       "      <th>1</th>\n",
       "      <th>2</th>\n",
       "      <th>3</th>\n",
       "      <th>4</th>\n",
       "      <th>5</th>\n",
       "      <th>6</th>\n",
       "      <th>7</th>\n",
       "      <th>8</th>\n",
       "      <th>9</th>\n",
       "      <th>10</th>\n",
       "      <th>11</th>\n",
       "      <th>12</th>\n",
       "      <th>13</th>\n",
       "    </tr>\n",
       "  </thead>\n",
       "  <tbody>\n",
       "    <tr>\n",
       "      <th>0</th>\n",
       "      <td>1</td>\n",
       "      <td>14.23</td>\n",
       "      <td>1.71</td>\n",
       "      <td>2.43</td>\n",
       "      <td>15.6</td>\n",
       "      <td>127</td>\n",
       "      <td>2.80</td>\n",
       "      <td>3.06</td>\n",
       "      <td>0.28</td>\n",
       "      <td>2.29</td>\n",
       "      <td>5.64</td>\n",
       "      <td>1.04</td>\n",
       "      <td>3.92</td>\n",
       "      <td>1065</td>\n",
       "    </tr>\n",
       "    <tr>\n",
       "      <th>1</th>\n",
       "      <td>1</td>\n",
       "      <td>13.20</td>\n",
       "      <td>1.78</td>\n",
       "      <td>2.14</td>\n",
       "      <td>11.2</td>\n",
       "      <td>100</td>\n",
       "      <td>2.65</td>\n",
       "      <td>2.76</td>\n",
       "      <td>0.26</td>\n",
       "      <td>1.28</td>\n",
       "      <td>4.38</td>\n",
       "      <td>1.05</td>\n",
       "      <td>3.40</td>\n",
       "      <td>1050</td>\n",
       "    </tr>\n",
       "    <tr>\n",
       "      <th>2</th>\n",
       "      <td>1</td>\n",
       "      <td>13.16</td>\n",
       "      <td>2.36</td>\n",
       "      <td>2.67</td>\n",
       "      <td>18.6</td>\n",
       "      <td>101</td>\n",
       "      <td>2.80</td>\n",
       "      <td>3.24</td>\n",
       "      <td>0.30</td>\n",
       "      <td>2.81</td>\n",
       "      <td>5.68</td>\n",
       "      <td>1.03</td>\n",
       "      <td>3.17</td>\n",
       "      <td>1185</td>\n",
       "    </tr>\n",
       "    <tr>\n",
       "      <th>3</th>\n",
       "      <td>1</td>\n",
       "      <td>14.37</td>\n",
       "      <td>1.95</td>\n",
       "      <td>2.50</td>\n",
       "      <td>16.8</td>\n",
       "      <td>113</td>\n",
       "      <td>3.85</td>\n",
       "      <td>3.49</td>\n",
       "      <td>0.24</td>\n",
       "      <td>2.18</td>\n",
       "      <td>7.80</td>\n",
       "      <td>0.86</td>\n",
       "      <td>3.45</td>\n",
       "      <td>1480</td>\n",
       "    </tr>\n",
       "    <tr>\n",
       "      <th>4</th>\n",
       "      <td>1</td>\n",
       "      <td>13.24</td>\n",
       "      <td>2.59</td>\n",
       "      <td>2.87</td>\n",
       "      <td>21.0</td>\n",
       "      <td>118</td>\n",
       "      <td>2.80</td>\n",
       "      <td>2.69</td>\n",
       "      <td>0.39</td>\n",
       "      <td>1.82</td>\n",
       "      <td>4.32</td>\n",
       "      <td>1.04</td>\n",
       "      <td>2.93</td>\n",
       "      <td>735</td>\n",
       "    </tr>\n",
       "  </tbody>\n",
       "</table>\n",
       "</div>"
      ],
      "text/plain": [
       "   0      1     2     3     4    5     6     7     8     9     10    11    12  \\\n",
       "0   1  14.23  1.71  2.43  15.6  127  2.80  3.06  0.28  2.29  5.64  1.04  3.92   \n",
       "1   1  13.20  1.78  2.14  11.2  100  2.65  2.76  0.26  1.28  4.38  1.05  3.40   \n",
       "2   1  13.16  2.36  2.67  18.6  101  2.80  3.24  0.30  2.81  5.68  1.03  3.17   \n",
       "3   1  14.37  1.95  2.50  16.8  113  3.85  3.49  0.24  2.18  7.80  0.86  3.45   \n",
       "4   1  13.24  2.59  2.87  21.0  118  2.80  2.69  0.39  1.82  4.32  1.04  2.93   \n",
       "\n",
       "     13  \n",
       "0  1065  \n",
       "1  1050  \n",
       "2  1185  \n",
       "3  1480  \n",
       "4   735  "
      ]
     },
     "execution_count": 3,
     "metadata": {},
     "output_type": "execute_result"
    }
   ],
   "source": [
    "df_wine.head()"
   ]
  },
  {
   "cell_type": "code",
   "execution_count": 4,
   "metadata": {},
   "outputs": [],
   "source": [
    "from sklearn.model_selection import train_test_split\n",
    "\n",
    "X, y = df_wine.iloc[:, 1:].values, df_wine.iloc[:, 0].values\n",
    "X_train, X_test, y_train, y_test = \\\n",
    "     train_test_split(X, y, test_size=0.3, random_state=0)"
   ]
  },
  {
   "cell_type": "markdown",
   "metadata": {},
   "source": [
    "### Standardize the data"
   ]
  },
  {
   "cell_type": "code",
   "execution_count": 5,
   "metadata": {},
   "outputs": [],
   "source": [
    "from sklearn.preprocessing import StandardScaler\n",
    "sc = StandardScaler()\n",
    "X_train_std = sc.fit_transform(X_train)\n",
    "X_test_std = sc.fit_transform(X_test)"
   ]
  },
  {
   "cell_type": "markdown",
   "metadata": {},
   "source": [
    "### Construct the covariance matrix, "
   ]
  },
  {
   "cell_type": "code",
   "execution_count": 7,
   "metadata": {},
   "outputs": [
    {
     "data": {
      "text/plain": [
       "array([[ 1.00813008,  0.08797701,  0.23066952, -0.32868099,  0.2141631 ,\n",
       "         0.35576761,  0.2991246 , -0.16913744,  0.09649074,  0.56962271,\n",
       "        -0.04781543,  0.07403492,  0.63277882],\n",
       "       [ 0.08797701,  1.00813008,  0.2016416 ,  0.30658143, -0.06030917,\n",
       "        -0.30124242, -0.41221162,  0.36616593, -0.19190146,  0.30749173,\n",
       "        -0.54992807, -0.39352761, -0.20253906],\n",
       "       [ 0.23066952,  0.2016416 ,  1.00813008,  0.44971971,  0.18321413,\n",
       "         0.12235533,  0.06130256,  0.18655693, -0.02607834,  0.24555355,\n",
       "        -0.10928021, -0.01820002,  0.15948032],\n",
       "       [-0.32868099,  0.30658143,  0.44971971,  1.00813008, -0.08930998,\n",
       "        -0.37018442, -0.41804463,  0.40212108, -0.25765667, -0.03090225,\n",
       "        -0.25313262, -0.28934372, -0.48504311],\n",
       "       [ 0.2141631 , -0.06030917,  0.18321413, -0.08930998,  1.00813008,\n",
       "         0.16513295,  0.14458703, -0.30763563,  0.27228619,  0.1260674 ,\n",
       "         0.05792599,  0.01596134,  0.31461066],\n",
       "       [ 0.35576761, -0.30124242,  0.12235533, -0.37018442,  0.16513295,\n",
       "         1.00813008,  0.88119961, -0.45396901,  0.6196806 , -0.06935051,\n",
       "         0.45718802,  0.72214462,  0.56326772],\n",
       "       [ 0.2991246 , -0.41221162,  0.06130256, -0.41804463,  0.14458703,\n",
       "         0.88119961,  1.00813008, -0.58329952,  0.66598997, -0.19183675,\n",
       "         0.58331869,  0.80205789,  0.55759374],\n",
       "       [-0.16913744,  0.36616593,  0.18655693,  0.40212108, -0.30763563,\n",
       "        -0.45396901, -0.58329952,  1.00813008, -0.35394023,  0.15451294,\n",
       "        -0.3178224 , -0.49379349, -0.36456587],\n",
       "       [ 0.09649074, -0.19190146, -0.02607834, -0.25765667,  0.27228619,\n",
       "         0.6196806 ,  0.66598997, -0.35394023,  1.00813008, -0.07018068,\n",
       "         0.32282167,  0.51036557,  0.35552117],\n",
       "       [ 0.56962271,  0.30749173,  0.24555355, -0.03090225,  0.1260674 ,\n",
       "        -0.06935051, -0.19183675,  0.15451294, -0.07018068,  1.00813008,\n",
       "        -0.52395358, -0.45165752,  0.31605457],\n",
       "       [-0.04781543, -0.54992807, -0.10928021, -0.25313262,  0.05792599,\n",
       "         0.45718802,  0.58331869, -0.3178224 ,  0.32282167, -0.52395358,\n",
       "         1.00813008,  0.60022569,  0.2452794 ],\n",
       "       [ 0.07403492, -0.39352761, -0.01820002, -0.28934372,  0.01596134,\n",
       "         0.72214462,  0.80205789, -0.49379349,  0.51036557, -0.45165752,\n",
       "         0.60022569,  1.00813008,  0.32437157],\n",
       "       [ 0.63277882, -0.20253906,  0.15948032, -0.48504311,  0.31461066,\n",
       "         0.56326772,  0.55759374, -0.36456587,  0.35552117,  0.31605457,\n",
       "         0.2452794 ,  0.32437157,  1.00813008]])"
      ]
     },
     "execution_count": 7,
     "metadata": {},
     "output_type": "execute_result"
    }
   ],
   "source": [
    "covariant_matrix = np.cov(X_train_std.T)\n",
    "covariant_matrix "
   ]
  },
  {
   "cell_type": "markdown",
   "metadata": {},
   "source": [
    "### Decompose the covariance matrix into its eigenvectors and eigenvalues"
   ]
  },
  {
   "cell_type": "code",
   "execution_count": 9,
   "metadata": {
    "scrolled": true
   },
   "outputs": [
    {
     "data": {
      "text/plain": [
       "(array([4.8923083 , 2.46635032, 1.42809973, 1.01233462, 0.84906459,\n",
       "        0.60181514, 0.52251546, 0.08414846, 0.33051429, 0.29595018,\n",
       "        0.16831254, 0.21432212, 0.2399553 ]),\n",
       " array([[ 1.46698114e-01,  5.04170789e-01, -1.17235150e-01,\n",
       "          2.06254611e-01, -1.87815947e-01, -1.48851318e-01,\n",
       "         -1.79263662e-01, -5.54687162e-02, -4.03054922e-01,\n",
       "         -4.17197583e-01,  2.75660860e-01,  4.03567189e-01,\n",
       "          4.13320786e-04],\n",
       "        [ 3.89344551e-01,  9.36399132e-02,  1.80804417e-01,\n",
       "          1.93179478e-01,  1.40645426e-01,  1.22248798e-02,\n",
       "          5.31455344e-02, -4.21265116e-01,  1.35111456e-01,\n",
       "         -2.80985650e-01,  2.83897644e-01, -6.18600153e-01,\n",
       "          9.45645138e-02],\n",
       "        [ 3.00325353e-01, -2.79243218e-01,  9.32387182e-02,\n",
       "          2.41740256e-02, -3.72610811e-01,  2.16515349e-01,\n",
       "         -3.84654748e-01, -1.05383688e-01, -5.17259438e-01,\n",
       "          1.97814118e-01, -1.98844532e-01, -2.00456386e-01,\n",
       "         -3.02254353e-01]]))"
      ]
     },
     "execution_count": 9,
     "metadata": {},
     "output_type": "execute_result"
    }
   ],
   "source": [
    "eigen_values, eigen_vectors = np.linalg.eig(covariant_matrix)\n",
    "eigen_values, eigen_vectors[::5]"
   ]
  },
  {
   "cell_type": "markdown",
   "metadata": {},
   "source": [
    "### Principle Components with respect to Explained Variance Ratio"
   ]
  },
  {
   "cell_type": "code",
   "execution_count": 12,
   "metadata": {},
   "outputs": [
    {
     "data": {
      "text/plain": [
       "<function matplotlib.pyplot.show(*args, **kw)>"
      ]
     },
     "execution_count": 12,
     "metadata": {},
     "output_type": "execute_result"
    },
    {
     "data": {
      "image/png": "[encoded data removed]",
      "text/plain": [
       "<Figure size 432x288 with 1 Axes>"
      ]
     },
     "metadata": {
      "needs_background": "light"
     },
     "output_type": "display_data"
    }
   ],
   "source": [
    "tot = sum(eigen_values)\n",
    "var_exp = [(i / tot) for i in sorted(eigen_values, reverse=True)]\n",
    "cum_var_exp = np.cumsum(var_exp)\n",
    "\n",
    "bar(range(1,14), var_exp, alpha=0.5, align='center',\n",
    "                  label='individual explained variance')\n",
    "step(range(1,14), cum_var_exp, where='mid',\n",
    "                  label='cumulative explained variance')\n",
    "ylabel('Explained variance ratio')\n",
    "xlabel('Principal components')\n",
    "legend(loc='best')\n",
    "show"
   ]
  },
  {
   "cell_type": "markdown",
   "metadata": {},
   "source": [
    "### Sort the eigenvalues by decreasing order to rank the eigenvectors"
   ]
  },
  {
   "cell_type": "code",
   "execution_count": 13,
   "metadata": {},
   "outputs": [],
   "source": [
    "eigen_pairs = \\\n",
    "[(np.abs(eigen_values[i]),eigen_vectors[:,i]) for i in range(len(eigen_values))]\n",
    "eigen_pairs.sort(reverse=True)"
   ]
  },
  {
   "cell_type": "code",
   "execution_count": 14,
   "metadata": {},
   "outputs": [
    {
     "data": {
      "text/plain": [
       "[(4.8923083032737456,\n",
       "  array([ 0.14669811, -0.24224554, -0.02993442, -0.25519002,  0.12079772,\n",
       "          0.38934455,  0.42326486, -0.30634956,  0.30572219, -0.09869191,\n",
       "          0.30032535,  0.36821154,  0.29259713])),\n",
       " (2.4663503157592297,\n",
       "  array([ 0.50417079,  0.24216889,  0.28698484, -0.06468718,  0.22995385,\n",
       "          0.09363991,  0.01088622,  0.01870216,  0.03040352,  0.54527081,\n",
       "         -0.27924322, -0.174365  ,  0.36315461])),\n",
       " (1.4280997275048453,\n",
       "  array([-0.11723515,  0.14994658,  0.65639439,  0.58428234,  0.08226275,\n",
       "          0.18080442,  0.14295933,  0.17223475,  0.1583621 , -0.14242171,\n",
       "          0.09323872,  0.19607741, -0.09731711])),\n",
       " (1.0123346209044957,\n",
       "  array([ 0.20625461,  0.1304893 ,  0.01515363, -0.09042209, -0.83912835,\n",
       "          0.19317948,  0.14045955,  0.33733262, -0.1147529 ,  0.07878571,\n",
       "          0.02417403,  0.18402864,  0.05676778])),\n",
       " (0.8490645933450257,\n",
       "  array([-0.18781595,  0.56863978, -0.29920943, -0.04124995, -0.02719713,\n",
       "          0.14064543,  0.09268665, -0.08584168,  0.56510524,  0.01323461,\n",
       "         -0.37261081,  0.08937967, -0.21752948]))]"
      ]
     },
     "execution_count": 14,
     "metadata": {},
     "output_type": "execute_result"
    }
   ],
   "source": [
    "\n",
    "eigen_pairs[:5]"
   ]
  },
  {
   "cell_type": "markdown",
   "metadata": {},
   "source": [
    "### Next, we collect the two eigenvectors that correspond to the two largest values to capture about 60 percent of the variance in this dataset."
   ]
  },
  {
   "cell_type": "markdown",
   "metadata": {},
   "source": [
    "#### Now we've created a 13×2 projection matrix W from the top two eigenvectors."
   ]
  },
  {
   "cell_type": "code",
   "execution_count": 15,
   "metadata": {},
   "outputs": [
    {
     "data": {
      "text/plain": [
       "(13, 2)"
      ]
     },
     "execution_count": 15,
     "metadata": {},
     "output_type": "execute_result"
    }
   ],
   "source": [
    "w= np.hstack((eigen_pairs[0][1][:, np.newaxis], eigen_pairs[1][1][:, np.newaxis]))\n",
    "w.shape"
   ]
  },
  {
   "cell_type": "code",
   "execution_count": 16,
   "metadata": {},
   "outputs": [
    {
     "data": {
      "text/plain": [
       "array([[ 0.14669811,  0.50417079],\n",
       "       [-0.24224554,  0.24216889],\n",
       "       [-0.02993442,  0.28698484],\n",
       "       [-0.25519002, -0.06468718],\n",
       "       [ 0.12079772,  0.22995385],\n",
       "       [ 0.38934455,  0.09363991],\n",
       "       [ 0.42326486,  0.01088622],\n",
       "       [-0.30634956,  0.01870216],\n",
       "       [ 0.30572219,  0.03040352],\n",
       "       [-0.09869191,  0.54527081],\n",
       "       [ 0.30032535, -0.27924322],\n",
       "       [ 0.36821154, -0.174365  ],\n",
       "       [ 0.29259713,  0.36315461]])"
      ]
     },
     "execution_count": 16,
     "metadata": {},
     "output_type": "execute_result"
    }
   ],
   "source": [
    "w"
   ]
  },
  {
   "cell_type": "code",
   "execution_count": 17,
   "metadata": {
    "scrolled": true
   },
   "outputs": [
    {
     "data": {
      "text/plain": [
       "array([ 0.91083058, -0.46259897, -0.01142613, -0.82067872,  0.06241693,\n",
       "        0.58820446,  0.93565436, -0.7619138 ,  0.13007174, -0.51238741,\n",
       "        0.65706596,  1.94354495,  0.93700997])"
      ]
     },
     "execution_count": 17,
     "metadata": {},
     "output_type": "execute_result"
    }
   ],
   "source": [
    "\n",
    "X_train_std[0]"
   ]
  },
  {
   "cell_type": "markdown",
   "metadata": {},
   "source": [
    "#### In the same way, we can transform the entire 124×13 training dataset onto the two principal components by calculating the matrix dot product:"
   ]
  },
  {
   "cell_type": "code",
   "execution_count": 18,
   "metadata": {},
   "outputs": [
    {
     "data": {
      "text/plain": [
       "array([2.59891628, 0.00484089])"
      ]
     },
     "execution_count": 18,
     "metadata": {},
     "output_type": "execute_result"
    }
   ],
   "source": [
    "X_train_std[0].dot(w)"
   ]
  },
  {
   "cell_type": "code",
   "execution_count": 19,
   "metadata": {},
   "outputs": [
    {
     "data": {
      "text/plain": [
       "((124, 13), (13, 2), (124, 2))"
      ]
     },
     "execution_count": 19,
     "metadata": {},
     "output_type": "execute_result"
    }
   ],
   "source": [
    "X_train_pca = X_train_std.dot(w)\n",
    "X_train_std.shape, w.shape, X_train_pca.shape"
   ]
  },
  {
   "cell_type": "markdown",
   "metadata": {},
   "source": [
    "### visualization of  transformed Wine training set in a two-dimensional scatterplot:"
   ]
  },
  {
   "cell_type": "code",
   "execution_count": 20,
   "metadata": {},
   "outputs": [
    {
     "data": {
      "image/png": "[encoded data removed]",
      "text/plain": [
       "<Figure size 432x288 with 1 Axes>"
      ]
     },
     "metadata": {
      "needs_background": "light"
     },
     "output_type": "display_data"
    }
   ],
   "source": [
    "colors = ['r', 'b', 'g']\n",
    "markers = ['s', 'x', 'o']\n",
    "for l, c, m in zip(np.unique(y_train), colors, markers):\n",
    "    scatter(X_train_pca[y_train==l, 0], X_train_pca[y_train==l, 1],\n",
    "            c=c, label=l, marker=m)\n",
    "xlabel('PC 1')\n",
    "ylabel('PC 2')\n",
    "legend(loc='lower left')\n",
    "show()"
   ]
  },
  {
   "cell_type": "code",
   "execution_count": 22,
   "metadata": {},
   "outputs": [],
   "source": [
    "from matplotlib.colors import ListedColormap\n",
    "\n",
    "def plot_decision_regions(X, y, classifier, resolution=0.02):\n",
    "    \n",
    "    # setup marker generator and color map\n",
    "    markers = ('s', 'x', 'o', '^', 'v')\n",
    "    colors = ('red', 'blue', 'lightgreen', 'gray', 'cyan')\n",
    "    cmap = ListedColormap(colors[:len(np.unique(y))])\n",
    "\n",
    "    # plot the decision surface\n",
    "    x1_min, x1_max = X[:, 0].min() - 1, X[:, 0].max() + 1\n",
    "    x2_min, x2_max = X[:, 1].min() - 1, X[:, 1].max() + 1\n",
    "    xx1, xx2 = np.meshgrid(np.arange(x1_min, x1_max, resolution),\n",
    "    np.arange(x2_min, x2_max, resolution))\n",
    "    Z = classifier.predict(np.array([xx1.ravel(), xx2.ravel()]).T)\n",
    "    Z = Z.reshape(xx1.shape)\n",
    "    contourf(xx1, xx2, Z, alpha=0.4, cmap=cmap)\n",
    "    xlim(xx1.min(), xx1.max())\n",
    "    ylim(xx2.min(), xx2.max())\n",
    "\n",
    "    # plot class samples\n",
    "    for idx, cl in enumerate(np.unique(y)):\n",
    "        scatter(x=X[y == cl, 0], y=X[y == cl, 1], alpha=0.8, c=cmap(idx),\n",
    "                marker=markers[idx], label=cl)"
   ]
  },
  {
   "cell_type": "code",
   "execution_count": 23,
   "metadata": {},
   "outputs": [
    {
     "name": "stderr",
     "output_type": "stream",
     "text": [
      "'c' argument looks like a single numeric RGB or RGBA sequence, which should be avoided as value-mapping will have precedence in case its length matches with 'x' & 'y'.  Please use a 2-D array with a single row if you really want to specify the same RGB or RGBA value for all points.\n",
      "'c' argument looks like a single numeric RGB or RGBA sequence, which should be avoided as value-mapping will have precedence in case its length matches with 'x' & 'y'.  Please use a 2-D array with a single row if you really want to specify the same RGB or RGBA value for all points.\n",
      "'c' argument looks like a single numeric RGB or RGBA sequence, which should be avoided as value-mapping will have precedence in case its length matches with 'x' & 'y'.  Please use a 2-D array with a single row if you really want to specify the same RGB or RGBA value for all points.\n"
     ]
    },
    {
     "data": {
      "image/png": "[encoded data removed]",
      "text/plain": [
       "<Figure size 432x288 with 1 Axes>"
      ]
     },
     "metadata": {
      "needs_background": "light"
     },
     "output_type": "display_data"
    }
   ],
   "source": [
    "from sklearn.linear_model import LogisticRegression\n",
    "from sklearn.decomposition import PCA\n",
    "pca = PCA(n_components=2)\n",
    "lr = LogisticRegression()\n",
    "X_train_pca = pca.fit_transform(X_train_std)\n",
    "X_test_pca = pca.transform(X_test_std)\n",
    "lr.fit(X_train_pca, y_train)\n",
    "plot_decision_regions(X_train_pca, y_train, classifier=lr)\n",
    "xlabel('PC1')\n",
    "ylabel('PC2')\n",
    "legend(loc='lower left')\n",
    "show()"
   ]
  },
  {
   "cell_type": "code",
   "execution_count": null,
   "metadata": {},
   "outputs": [],
   "source": []
  }
 ],
 "metadata": {
  "kernelspec": {
   "display_name": "Python 3",
   "language": "python",
   "name": "python3"
  },
  "language_info": {
   "codemirror_mode": {
    "name": "ipython",
    "version": 3
   },
   "file_extension": ".py",
   "mimetype": "text/x-python",
   "name": "python",
   "nbconvert_exporter": "python",
   "pygments_lexer": "ipython3",
   "version": "3.7.7"
  }
 },
 "nbformat": 4,
 "nbformat_minor": 4
}
